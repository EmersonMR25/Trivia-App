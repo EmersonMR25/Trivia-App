{
  "nbformat": 4,
  "nbformat_minor": 0,
  "metadata": {
    "colab": {
      "name": "Trivia App.ipynb",
      "provenance": [],
      "collapsed_sections": [
        "wmUXr2DxrnMv",
        "wpT-3gnt5ZVK",
        "y27iEGbZ5a7Y"
      ],
      "authorship_tag": "ABX9TyM+zUm+m6k9jHhm+E43UT0p",
      "include_colab_link": true
    },
    "kernelspec": {
      "name": "python3",
      "display_name": "Python 3"
    },
    "language_info": {
      "name": "python"
    }
  },
  "cells": [
    {
      "cell_type": "markdown",
      "metadata": {
        "id": "view-in-github",
        "colab_type": "text"
      },
      "source": [
        "<a href=\"https://colab.research.google.com/github/EmersonMR25/Trivia-App/blob/main/Trivia_App.ipynb\" target=\"_parent\"><img src=\"https://colab.research.google.com/assets/colab-badge.svg\" alt=\"Open In Colab\"/></a>"
      ]
    },
    {
      "cell_type": "markdown",
      "metadata": {
        "id": "wmUXr2DxrnMv"
      },
      "source": [
        "#<h1 align=\"center\">**Ultimate Trivia App**</h1>\n",
        "#<h3 align=\"center\">**By:** Emerson Madrd</h3>\n",
        "<p align=\"center\"><img width=\"200\" src=\"https://www.python.org/static/community_logos/python-logo-master-v3-TM.png\" alt=\"Python Logo\">\n",
        "</p>\n",
        "---"
      ]
    },
    {
      "cell_type": "markdown",
      "metadata": {
        "id": "wpT-3gnt5ZVK"
      },
      "source": [
        "---\n",
        "##<h1 align=\"center\">⭐**API**⭐</h1>\n",
        "---"
      ]
    },
    {
      "cell_type": "markdown",
      "metadata": {
        "id": "lGkXtH3j5kWo"
      },
      "source": [
        "> \n",
        "The following app is powered by [opentdb's](https://opentdb.com/) API.\n",
        "*   Public\n",
        "*   Free to use\n",
        "*   Customizable\n",
        "*   Intuitive\n",
        "*   Does not require registration\n",
        "*   Does not Require API key\n",
        "\n",
        "\n",
        ">This is an open trivia database that contains 4067 questions and is constantly expanding. It is an user-contributed database and free to use, hence why it is very straight-forward and creative. You do not need to register in order to extract data; however, in case you want to contribute with your own set of questions, you will have to register in their website\n",
        "\n",
        ">⭕ You might want to filter what type of questions you want to get from this API because some are formatted in an unreadable way ⭕\n"
      ]
    },
    {
      "cell_type": "markdown",
      "metadata": {
        "id": "y27iEGbZ5a7Y"
      },
      "source": [
        "---\n",
        "##<h1 align=\"center\">🔷**Application**🔷</h1>\n",
        "---"
      ]
    },
    {
      "cell_type": "markdown",
      "metadata": {
        "id": "HautsHiI57gT"
      },
      "source": [
        "> \n",
        "To succesfully run this program pay close attention to the following instructions:\n",
        "1.   Run the set-up cells (all 4 of them).\n",
        "2.   Indicated the type of questions\n",
        "3.   Indicate level of difficulty\n",
        "4.   Run app cell\n",
        "5.   Enjoy\n",
        "\n",
        "###True or False\n",
        ">\n",
        "* You can write your answer (True or False)\n",
        "* ⭕ Capitalization does not matter ⭕\n",
        "\n",
        "###Multiple Choice\n",
        ">\n",
        "* For better accuracy **copy and paste your** answer.\n",
        "* ⭕ ***Do Not*** include the letter (A, B, C, or D)  ⭕\n",
        "* ⭕ ***Just Include the Answers***⭕"
      ]
    },
    {
      "cell_type": "markdown",
      "metadata": {
        "id": "475D2lbC6Wis"
      },
      "source": [
        "---\n",
        "#<h1 align=\"center\">**Set-up**</h1>\n",
        "---"
      ]
    },
    {
      "cell_type": "code",
      "metadata": {
        "id": "zGJTU6Ho6q1l"
      },
      "source": [
        "from IPython.display import Image, display \n",
        "#import pandas as pd\n",
        "import requests\n",
        "import json\n",
        "import random"
      ],
      "execution_count": null,
      "outputs": []
    },
    {
      "cell_type": "code",
      "metadata": {
        "id": "jjAuTyCp7Mip"
      },
      "source": [
        "#Display icon for when you get question right\n",
        "def si():\n",
        "    siUrl = \"https://i2.wp.com/www.icon0.com/wp-content/uploads/2021/05/stock-photo-tick-icon-sign-design-13148.jpg?fit=400%2C400&ssl=1\"\n",
        "    display(Image(url=siUrl, width = 50, height = 50))\n",
        "\n",
        "#Display questions for when you get questions wrong\n",
        "def no():\n",
        "    noUrl = \"https://www.compliancesigns.com/media/catalog/product/7/d/7d255ce3f60f99e275797fff66b733489b9cbdf670f2ca15f288017d95ce2e92.jpeg\"\n",
        "    display(Image(url=noUrl, width = 50, height = 50))"
      ],
      "execution_count": null,
      "outputs": []
    },
    {
      "cell_type": "code",
      "metadata": {
        "id": "7TQaWQy97gyO"
      },
      "source": [
        "# 1. Ask the player's name\n",
        "def intro():\n",
        "    name = input(\"\\nWhat is your name: \")\n",
        "    print(f\"Hello {name}, welcome to my game!\")\n",
        "\n",
        "def end():\n",
        "    print('------------------')\n",
        "    print(\"Congratulations you have finished the game!! Thanks for playing!\\nIf you want to play again just run the cell again.\")"
      ],
      "execution_count": null,
      "outputs": []
    },
    {
      "cell_type": "code",
      "metadata": {
        "id": "XlH9ifXk72kQ"
      },
      "source": [
        "def trueFalse():\n",
        "    #Extract data from \"opentdb\" api\n",
        "    url = f\"https://opentdb.com/api.php?amount=50&difficulty={difficulty.lower()}&type=boolean\"\n",
        "    response = requests.get(url)\n",
        "    d = json.loads(response.text)\n",
        "\n",
        "    #Create a list that only contains the filtered results. \n",
        "    resultList = [x for x in d['results'] if \";\" not in x['question']]\n",
        "\n",
        "    #Keep track of the score\n",
        "    score = 0\n",
        "    #Keep Track of the Question Number\n",
        "    n = 0\n",
        "    #Loop through only the first five elements of \"resultList\"\n",
        "    for x in resultList[-6:-1]:\n",
        "        print('------------------')\n",
        "        n += 1\n",
        "        #print the question\n",
        "        print(\"QUESTION\", str(n) + \":\", x['question'])\n",
        "        #ask the user for an asnwer\n",
        "        userAnswer = input(\"True or False: \")\n",
        "        r  = userAnswer.title()\n",
        "        #extract the current answer and put it inside a variable\n",
        "        respuesta = x['correct_answer']\n",
        "        #Check for (in)correct answers\n",
        "        if r == respuesta:\n",
        "            si()\n",
        "            score += 1\n",
        "        else:\n",
        "            no()\n",
        "    print('------------------')\n",
        "    print('YOUR SCORE IS:', score, \"out of 5\")\n",
        "\n",
        "def multiple():\n",
        "    #Extract data from \"opentdb\" api\n",
        "    url = f\"https://opentdb.com/api.php?amount=50&difficulty={difficulty.lower()}&type=multiple\"\n",
        "    response = requests.get(url)\n",
        "    d = json.loads(response.text)\n",
        "\n",
        "    #Create a list that only contains the results. \n",
        "    resultList = [x for x in d['results'] if \";\" not in x['question'] and x['incorrect_answers']]\n",
        "    #Further filter the list, to make sure that they don't have those wierd symbols\n",
        "    fList = [y for y in resultList if \";\" not in y['correct_answer']]\n",
        "\n",
        "    #Keep track of the score\n",
        "    score = 0\n",
        "    #Keep Track of the Question Number\n",
        "    n = 0\n",
        "    #Loop thorugh fList \n",
        "    for x in fList[-6:-1]:\n",
        "        print('------------------')\n",
        "        n += 1\n",
        "        #Print the question\n",
        "        print(\"QUESTION\", str(n) + \":\",  x['question'])\n",
        "        #Separate each choice and put them into different variables\n",
        "        op1 = str(x[\"incorrect_answers\"][0])\n",
        "        op2 = str(x[\"incorrect_answers\"][1])\n",
        "        op3 = str(x[\"incorrect_answers\"][2])\n",
        "        op4 = str(x[\"correct_answer\"])\n",
        "        opList = [op1, op2, op4, op3]\n",
        "        #Shuffle oplist so the correct answer is always in a different spot\n",
        "        random.shuffle(opList)\n",
        "        print(f\"A. {opList[0]}\\nB. {opList[1]}\\nC. {opList[2]}\\nD. {opList[3]}\")\n",
        "        #Ask user for answer\n",
        "        answer = input('Copy and Paste your Answer: ')\n",
        "        #Check for (in)correct answers\n",
        "        if answer == op4:\n",
        "            si()\n",
        "            score += 1\n",
        "        else:\n",
        "            no()\n",
        "            print('------------------')\n",
        "            print(\"The correct answer is: \", op4)\n",
        "    print('------------------')\n",
        "    print('YOUR SCORE IS:', score, \"out of 5\")"
      ],
      "execution_count": null,
      "outputs": []
    },
    {
      "cell_type": "markdown",
      "metadata": {
        "id": "oG3KzujZb2sg"
      },
      "source": [
        "---\n",
        "#<h1 align=\"center\">**App**</h1>\n",
        "---"
      ]
    },
    {
      "cell_type": "code",
      "metadata": {
        "id": "Yu_-pKT1b_S8",
        "cellView": "form",
        "colab": {
          "base_uri": "https://localhost:8080/"
        },
        "outputId": "c55510a1-40da-40a1-bf19-3c7cd9aac340"
      },
      "source": [
        "#@title Ultimate Trivia App\n",
        "Test = \"Multiple Choice\" #@param [\"Multiple Choice\", \"True or False\"]\n",
        "difficulty = \"Hard\" #@param [\"Easy\", \"Medium\", \"Hard\"]\n",
        "\n",
        "if Test == \"True or False\":\n",
        "    intro()\n",
        "    trueFalse()\n",
        "    end()\n",
        "elif Test == \"Multiple Choice\":\n",
        "    intro()\n",
        "    multiple()\n",
        "    end()"
      ],
      "execution_count": null,
      "outputs": [
        {
          "output_type": "stream",
          "name": "stdout",
          "text": [
            "\n",
            "What is your name: ENGL\n",
            "Hello ENGL, welcome to my game!\n",
            "------------------\n",
            "QUESTION 1: Which of the following mathematicians made major contributions to game theory?\n",
            "A. Carl Friedrich Gauss\n",
            "B. Stefan Banach\n",
            "C. John Von Neumann\n",
            "D. Leonhard Euler\n"
          ]
        }
      ]
    }
  ]
}